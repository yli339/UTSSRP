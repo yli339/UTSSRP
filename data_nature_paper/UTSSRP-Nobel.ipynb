{
 "cells": [
  {
   "cell_type": "markdown",
   "metadata": {},
   "source": [
    "# U of T Statistical Sciences Research Program Project on Nobel Prize Winners\n",
    "\n",
    "## Background\n",
    "\n",
    "Li et al. state that \n",
    "\n",
    "> ... literature in the field of innovation shows that the prize-winning works by Nobel laureates tend to occur early within a career, providing evidence of precocious minds that break through in an exceptional way. By contrast, growing evidence shows that ordinary scientific careers are determined by the random impact rule, suggesting that age and creativity are not intertwined, and the most important work in a career occurs randomly within the sequence of works. Second, there is an acclaimed tradition in the history of science that emphasizes the role of individual genius in scientific discovery. However, one of the most fundamental shifts in science over the past century is the flourishing of large teams across all areas of science. This shift raises the question of whether Nobel laureates are unique in being solitary thinkers making guiding contributions.\n",
    "\n",
    "\n",
    "## Question to explore\n",
    "\n",
    "Among Nobel Prize winner's in Physics, Chemistry, and Biology, what is the relationship between scientific impact of a paper and the timing of the paper during a scientist's career?  Does this relationship depend on a scientist's age, gender, team size, or prize category?\n",
    "\n",
    "## Issues to consider\n",
    "\n",
    "- How will you measure scientific impact?\n",
    "  \n",
    "- How will you measure timing of impact?\n",
    "\n",
    "\n",
    "## Data sources\n",
    "\n",
    "You may use any data that is publicly available.\n",
    "\n",
    "- [A dataset of publication records for Nobel laureates](https://dataverse.harvard.edu/dataset.xhtml?persistentId=doi:10.7910/DVN/6NJ5RN). This data is used in ref 1. and described in ref 2. \n",
    "  \n",
    "-  [Crossref REST API](https://github.com/CrossRef/rest-api-doc) contains information on publications such as number of citations.  There are several excellent libraries that can be used to access this API such as [habenaro](https://github.com/sckott/habanero), and [rcrossref](https://github.com/ropensci/rcrossref).\n",
    "\n",
    "- [The Nobel Prize Developer Zone](https://www.nobelprize.org/about/developer-zone-2/).  Endpoints for the API contain information on Laureates and Nobel Prizes.\n",
    "\n",
    "\n",
    "## References\n",
    "\n",
    "1. [Li, Jichao, Yian Yin, Santo Fortunato, and Dashun Wang. \"Nobel laureates are almost the same as us.\" Nature Reviews Physics 1, no. 5 (2019): 301.](https://www-nature-com.myaccess.library.utoronto.ca/articles/s42254-019-0057-z)\n",
    "\n",
    "2. [Li, Jichao, Yian Yin, Santo Fortunato, and Dashun Wang. \"A dataset of publication records for Nobel laureates.\" Scientific data 6, no. 1 (2019): 33.](https://www.nature.com/articles/s41597-019-0033-6)\n",
    "\n",
    "3. [Sinatra, Roberta, Dashun Wang, Pierre Deville, Chaoming Song, and Albert-László Barabási. \"Quantifying the evolution of individual scientific impact.\" Science 354, no. 6312 (2016): aaf5239.](https://science.sciencemag.org/content/354/6312/aaf5239.short)\n",
    "\n",
    "\n"
   ]
  },
  {
   "cell_type": "markdown",
   "metadata": {},
   "source": [
    "## Exploring data sources\n",
    "\n",
    "### A dataset of publication records for Nobel Laureates "
   ]
  },
  {
   "cell_type": "code",
   "execution_count": 71,
   "metadata": {},
   "outputs": [
    {
     "data": {
      "application/vnd.microsoft.datawrangler.viewer.v0+json": {
       "columns": [
        {
         "name": "index",
         "rawType": "int64",
         "type": "integer"
        },
        {
         "name": "Laureate ID",
         "rawType": "int64",
         "type": "integer"
        },
        {
         "name": "Laureate name",
         "rawType": "object",
         "type": "string"
        },
        {
         "name": "Prize year",
         "rawType": "int64",
         "type": "integer"
        },
        {
         "name": "Title",
         "rawType": "object",
         "type": "string"
        },
        {
         "name": "Pub year",
         "rawType": "int64",
         "type": "integer"
        },
        {
         "name": "Paper ID",
         "rawType": "float64",
         "type": "float"
        },
        {
         "name": "DOI",
         "rawType": "object",
         "type": "string"
        },
        {
         "name": "Journal",
         "rawType": "object",
         "type": "string"
        },
        {
         "name": "Affiliation",
         "rawType": "object",
         "type": "string"
        },
        {
         "name": "Is prize-winning paper",
         "rawType": "object",
         "type": "string"
        }
       ],
       "ref": "33040ba2-d18d-4f88-9f92-5251606a5524",
       "rows": [
        [
         "0",
         "20001",
         "stoddart, j",
         "2016",
         "a molecular shuttle",
         "1991",
         "1976038872.0",
         "10.1021/ja00013a096",
         "journal of the american chemical society",
         "northwestern university",
         "YES"
        ],
        [
         "1",
         "20001",
         "stoddart, j",
         "2016",
         "chemical synthesis of nanostructures",
         "1993",
         "1963538048.0",
         "10.1557/PROC-330-57",
         "mrs proceedings",
         "northwestern university",
         "NO"
        ],
        [
         "2",
         "20001",
         "stoddart, j",
         "2016",
         "formation and x ray crystal structure of pt h2nch2ch2nh2 2 18 crown 6 n2 pf6 2n a hydrogen bonded stepped chain copolymer",
         "1981",
         "1963552001.0",
         "10.1039/C39810000851",
         "journal of the chemical society chemical communications",
         "northwestern university",
         "NO"
        ],
        [
         "3",
         "20001",
         "stoddart, j",
         "2016",
         "single walled carbon nanotubes under the influence of dynamic coordination and supramolecular chemistry",
         "2005",
         "2095637444.0",
         "10.1002/smll.200400070",
         "small",
         "northwestern university",
         "NO"
        ],
        [
         "4",
         "20001",
         "stoddart, j",
         "2016",
         "synthesis of medium heterocyclic rings from 6 deoxy d allose",
         "1974",
         "2095678508.0",
         "10.1016/S0008-6215(00)82105-9",
         "carbohydrate research",
         "northwestern university",
         "NO"
        ]
       ],
       "shape": {
        "columns": 10,
        "rows": 5
       }
      },
      "text/html": [
       "<div>\n",
       "<style scoped>\n",
       "    .dataframe tbody tr th:only-of-type {\n",
       "        vertical-align: middle;\n",
       "    }\n",
       "\n",
       "    .dataframe tbody tr th {\n",
       "        vertical-align: top;\n",
       "    }\n",
       "\n",
       "    .dataframe thead th {\n",
       "        text-align: right;\n",
       "    }\n",
       "</style>\n",
       "<table border=\"1\" class=\"dataframe\">\n",
       "  <thead>\n",
       "    <tr style=\"text-align: right;\">\n",
       "      <th></th>\n",
       "      <th>Laureate ID</th>\n",
       "      <th>Laureate name</th>\n",
       "      <th>Prize year</th>\n",
       "      <th>Title</th>\n",
       "      <th>Pub year</th>\n",
       "      <th>Paper ID</th>\n",
       "      <th>DOI</th>\n",
       "      <th>Journal</th>\n",
       "      <th>Affiliation</th>\n",
       "      <th>Is prize-winning paper</th>\n",
       "    </tr>\n",
       "  </thead>\n",
       "  <tbody>\n",
       "    <tr>\n",
       "      <th>0</th>\n",
       "      <td>20001</td>\n",
       "      <td>stoddart, j</td>\n",
       "      <td>2016</td>\n",
       "      <td>a molecular shuttle</td>\n",
       "      <td>1991</td>\n",
       "      <td>1.976039e+09</td>\n",
       "      <td>10.1021/ja00013a096</td>\n",
       "      <td>journal of the american chemical society</td>\n",
       "      <td>northwestern university</td>\n",
       "      <td>YES</td>\n",
       "    </tr>\n",
       "    <tr>\n",
       "      <th>1</th>\n",
       "      <td>20001</td>\n",
       "      <td>stoddart, j</td>\n",
       "      <td>2016</td>\n",
       "      <td>chemical synthesis of nanostructures</td>\n",
       "      <td>1993</td>\n",
       "      <td>1.963538e+09</td>\n",
       "      <td>10.1557/PROC-330-57</td>\n",
       "      <td>mrs proceedings</td>\n",
       "      <td>northwestern university</td>\n",
       "      <td>NO</td>\n",
       "    </tr>\n",
       "    <tr>\n",
       "      <th>2</th>\n",
       "      <td>20001</td>\n",
       "      <td>stoddart, j</td>\n",
       "      <td>2016</td>\n",
       "      <td>formation and x ray crystal structure of pt h2...</td>\n",
       "      <td>1981</td>\n",
       "      <td>1.963552e+09</td>\n",
       "      <td>10.1039/C39810000851</td>\n",
       "      <td>journal of the chemical society chemical commu...</td>\n",
       "      <td>northwestern university</td>\n",
       "      <td>NO</td>\n",
       "    </tr>\n",
       "    <tr>\n",
       "      <th>3</th>\n",
       "      <td>20001</td>\n",
       "      <td>stoddart, j</td>\n",
       "      <td>2016</td>\n",
       "      <td>single walled carbon nanotubes under the influ...</td>\n",
       "      <td>2005</td>\n",
       "      <td>2.095637e+09</td>\n",
       "      <td>10.1002/smll.200400070</td>\n",
       "      <td>small</td>\n",
       "      <td>northwestern university</td>\n",
       "      <td>NO</td>\n",
       "    </tr>\n",
       "    <tr>\n",
       "      <th>4</th>\n",
       "      <td>20001</td>\n",
       "      <td>stoddart, j</td>\n",
       "      <td>2016</td>\n",
       "      <td>synthesis of medium heterocyclic rings from 6 ...</td>\n",
       "      <td>1974</td>\n",
       "      <td>2.095679e+09</td>\n",
       "      <td>10.1016/S0008-6215(00)82105-9</td>\n",
       "      <td>carbohydrate research</td>\n",
       "      <td>northwestern university</td>\n",
       "      <td>NO</td>\n",
       "    </tr>\n",
       "  </tbody>\n",
       "</table>\n",
       "</div>"
      ],
      "text/plain": [
       "   Laureate ID Laureate name  Prize year  \\\n",
       "0        20001   stoddart, j        2016   \n",
       "1        20001   stoddart, j        2016   \n",
       "2        20001   stoddart, j        2016   \n",
       "3        20001   stoddart, j        2016   \n",
       "4        20001   stoddart, j        2016   \n",
       "\n",
       "                                               Title  Pub year      Paper ID  \\\n",
       "0                                a molecular shuttle      1991  1.976039e+09   \n",
       "1               chemical synthesis of nanostructures      1993  1.963538e+09   \n",
       "2  formation and x ray crystal structure of pt h2...      1981  1.963552e+09   \n",
       "3  single walled carbon nanotubes under the influ...      2005  2.095637e+09   \n",
       "4  synthesis of medium heterocyclic rings from 6 ...      1974  2.095679e+09   \n",
       "\n",
       "                             DOI  \\\n",
       "0            10.1021/ja00013a096   \n",
       "1            10.1557/PROC-330-57   \n",
       "2           10.1039/C39810000851   \n",
       "3         10.1002/smll.200400070   \n",
       "4  10.1016/S0008-6215(00)82105-9   \n",
       "\n",
       "                                             Journal              Affiliation  \\\n",
       "0           journal of the american chemical society  northwestern university   \n",
       "1                                    mrs proceedings  northwestern university   \n",
       "2  journal of the chemical society chemical commu...  northwestern university   \n",
       "3                                              small  northwestern university   \n",
       "4                              carbohydrate research  northwestern university   \n",
       "\n",
       "  Is prize-winning paper  \n",
       "0                    YES  \n",
       "1                     NO  \n",
       "2                     NO  \n",
       "3                     NO  \n",
       "4                     NO  "
      ]
     },
     "execution_count": 71,
     "metadata": {},
     "output_type": "execute_result"
    }
   ],
   "source": [
    "# read in chem publication record\n",
    "\n",
    "import pandas as pd\n",
    "\n",
    "chem = pd.read_csv('Chemistry publication record.csv')\n",
    "\n",
    "chem.head()"
   ]
  },
  {
   "cell_type": "markdown",
   "metadata": {},
   "source": [
    "### `habanero` library for publication data\n",
    "\n",
    "#### Citation counts\n",
    "\n",
    "- use [habanero](https://habanero.readthedocs.io/en/latest/) library to look up citation counts"
   ]
  },
  {
   "cell_type": "code",
   "execution_count": 72,
   "metadata": {},
   "outputs": [],
   "source": [
    "from habanero import Crossref\n",
    "cr = Crossref()"
   ]
  },
  {
   "cell_type": "code",
   "execution_count": 73,
   "metadata": {},
   "outputs": [],
   "source": [
    "# pick the first chem paper via DOI in the dataset\n",
    "\n",
    "a_chem_paper = chem['DOI'][0]"
   ]
  },
  {
   "cell_type": "code",
   "execution_count": 74,
   "metadata": {},
   "outputs": [
    {
     "data": {
      "text/plain": [
       "667"
      ]
     },
     "execution_count": 74,
     "metadata": {},
     "output_type": "execute_result"
    }
   ],
   "source": [
    "# get citation counts\n",
    "\n",
    "from habanero import counts\n",
    "\n",
    "counts.citation_count(doi = a_chem_paper)"
   ]
  },
  {
   "cell_type": "markdown",
   "metadata": {},
   "source": [
    "#### Get number of publication authors\n",
    "\n",
    "1. Extract (meta) data about `a_chem_paper`."
   ]
  },
  {
   "cell_type": "code",
   "execution_count": 75,
   "metadata": {},
   "outputs": [
    {
     "data": {
      "text/plain": [
       "[' @article{Anelli_1991',\n",
       " ' title={A molecular shuttle}',\n",
       " ' volume={113}',\n",
       " ' ISSN={1520-5126}',\n",
       " ' url={http://dx.doi.org/10.1021/ja00013a096}',\n",
       " ' DOI={10.1021/ja00013a096}',\n",
       " ' number={13}',\n",
       " ' journal={Journal of the American Chemical Society}',\n",
       " ' publisher={American Chemical Society (ACS)}',\n",
       " ' author={Anelli',\n",
       " ' Pier Lucio and Spencer',\n",
       " ' Neil and Stoddart',\n",
       " ' J. Fraser}',\n",
       " ' year={1991}',\n",
       " ' month=jun',\n",
       " ' pages={5131–5133} }\\n']"
      ]
     },
     "execution_count": 75,
     "metadata": {},
     "output_type": "execute_result"
    }
   ],
   "source": [
    "from habanero import cn\n",
    "a_chem_paper_content = cn.content_negotiation(ids = a_chem_paper)\n",
    "\n",
    "a_chem_paper_content.split(',')"
   ]
  },
  {
   "cell_type": "markdown",
   "metadata": {},
   "source": [
    "2. Calculate the number of co-authors on `a_chem_paper_content`."
   ]
  },
  {
   "cell_type": "code",
   "execution_count": 76,
   "metadata": {},
   "outputs": [
    {
     "name": "stdout",
     "output_type": "stream",
     "text": [
      "Number of authors: 3\n",
      "Number of co-authors: 2\n",
      "Authors: ['Anelli, Pier Lucio', 'Spencer, Neil', 'Stoddart, J. Fraser']\n"
     ]
    }
   ],
   "source": [
    "import re\n",
    "\n",
    "# Find the line with 'author = {...}'\n",
    "match = re.search(r'author\\s*=\\s*{([^}]*)}', a_chem_paper_content)\n",
    "if match:\n",
    "    authors_str = match.group(1)\n",
    "    # Authors are usually separated by ' and '\n",
    "    authors = [a.strip() for a in authors_str.split(' and ')]\n",
    "    num_authors = len(authors)\n",
    "else:\n",
    "    print(\"Author field not found.\")\n",
    "\n",
    "print(\"Number of authors:\", num_authors)\n",
    "print(\"Number of co-authors:\", num_authors - 1)\n",
    "print(\"Authors:\", authors)\n"
   ]
  },
  {
   "cell_type": "markdown",
   "metadata": {},
   "source": [
    "###  Extract data on laureates using nobelprize.org API\n",
    "\n",
    "- use the API to extract gender"
   ]
  },
  {
   "cell_type": "code",
   "execution_count": 77,
   "metadata": {},
   "outputs": [
    {
     "data": {
      "application/vnd.microsoft.datawrangler.viewer.v0+json": {
       "columns": [
        {
         "name": "index",
         "rawType": "int64",
         "type": "integer"
        },
        {
         "name": "id",
         "rawType": "object",
         "type": "string"
        },
        {
         "name": "gender",
         "rawType": "object",
         "type": "string"
        },
        {
         "name": "knownName.en",
         "rawType": "object",
         "type": "string"
        },
        {
         "name": "familyName.en",
         "rawType": "object",
         "type": "string"
        }
       ],
       "ref": "daf77dcc-a21c-4e80-a76e-6d4903087fcc",
       "rows": [
        [
         "0",
         "933",
         "male",
         "Bernard L. Feringa",
         "Feringa"
        ],
        [
         "1",
         "931",
         "male",
         "Jean-Pierre Sauvage",
         "Sauvage"
        ],
        [
         "2",
         "932",
         "male",
         "Sir J. Fraser Stoddart",
         "Stoddart"
        ]
       ],
       "shape": {
        "columns": 4,
        "rows": 3
       }
      },
      "text/html": [
       "<div>\n",
       "<style scoped>\n",
       "    .dataframe tbody tr th:only-of-type {\n",
       "        vertical-align: middle;\n",
       "    }\n",
       "\n",
       "    .dataframe tbody tr th {\n",
       "        vertical-align: top;\n",
       "    }\n",
       "\n",
       "    .dataframe thead th {\n",
       "        text-align: right;\n",
       "    }\n",
       "</style>\n",
       "<table border=\"1\" class=\"dataframe\">\n",
       "  <thead>\n",
       "    <tr style=\"text-align: right;\">\n",
       "      <th></th>\n",
       "      <th>id</th>\n",
       "      <th>gender</th>\n",
       "      <th>knownName.en</th>\n",
       "      <th>familyName.en</th>\n",
       "    </tr>\n",
       "  </thead>\n",
       "  <tbody>\n",
       "    <tr>\n",
       "      <th>0</th>\n",
       "      <td>933</td>\n",
       "      <td>male</td>\n",
       "      <td>Bernard L. Feringa</td>\n",
       "      <td>Feringa</td>\n",
       "    </tr>\n",
       "    <tr>\n",
       "      <th>1</th>\n",
       "      <td>931</td>\n",
       "      <td>male</td>\n",
       "      <td>Jean-Pierre Sauvage</td>\n",
       "      <td>Sauvage</td>\n",
       "    </tr>\n",
       "    <tr>\n",
       "      <th>2</th>\n",
       "      <td>932</td>\n",
       "      <td>male</td>\n",
       "      <td>Sir J. Fraser Stoddart</td>\n",
       "      <td>Stoddart</td>\n",
       "    </tr>\n",
       "  </tbody>\n",
       "</table>\n",
       "</div>"
      ],
      "text/plain": [
       "    id gender            knownName.en familyName.en\n",
       "0  933   male      Bernard L. Feringa       Feringa\n",
       "1  931   male     Jean-Pierre Sauvage       Sauvage\n",
       "2  932   male  Sir J. Fraser Stoddart      Stoddart"
      ]
     },
     "execution_count": 77,
     "metadata": {},
     "output_type": "execute_result"
    }
   ],
   "source": [
    "import requests\n",
    "\n",
    "BASE_URL = \"https://api.nobelprize.org/2.1/laureates\"\n",
    "\n",
    "\n",
    "params = {\n",
    "    \"nobelPrizeYear\": 2016,\n",
    "    \"nobelPrizeCategory\": \"che\", # chemistry\n",
    "    \"limit\": 25       \n",
    "}\n",
    "\n",
    "\n",
    "resp = requests.get(BASE_URL, params=params, timeout=30)\n",
    "\n",
    "\n",
    "payload = resp.json()            # the top‑level JSON object\n",
    "laureates = payload[\"laureates\"] # list of laureate dicts\n",
    "\n",
    "\n",
    "df = pd.json_normalize(laureates)\n",
    "\n",
    "selected_cols = ['id', 'gender', 'knownName.en', 'familyName.en']\n",
    "\n",
    "df[selected_cols]\n",
    "\n"
   ]
  },
  {
   "cell_type": "markdown",
   "metadata": {},
   "source": [
    "## Statistical analyses\n",
    "\n",
    "### Some suggestions and questions\n",
    "\n",
    "1. Reproduce the anayses in [Li, Jichao, Yian Yin, Santo Fortunato, and Dashun Wang. \"Nobel laureates are almost the same as us.\" Nature Reviews Physics 1, no. 5 (2019): 301.](https://www-nature-com.myaccess.library.utoronto.ca/articles/s42254-019-0057-z)\n",
    "   \n",
    "2. What are the dependent and independent variables related to exploring the relationship between scientific impact of a paper and the *timing* of the paper during a scientist's career?\n",
    "\n",
    "3. How does age, gender, team size, or prize area affect the relationship?\n",
    "   \n",
    "\n",
    "### Statistical models that might be helpful\n",
    "\n",
    "1. Linear regression\n",
    "2. General linear model\n",
    "3. Bayesian hierarchical model\n",
    "\n"
   ]
  },
  {
   "cell_type": "markdown",
   "metadata": {},
   "source": []
  }
 ],
 "metadata": {
  "hide_input": false,
  "kernelspec": {
   "display_name": "base",
   "language": "python",
   "name": "python3"
  },
  "language_info": {
   "codemirror_mode": {
    "name": "ipython",
    "version": 3
   },
   "file_extension": ".py",
   "mimetype": "text/x-python",
   "name": "python",
   "nbconvert_exporter": "python",
   "pygments_lexer": "ipython3",
   "version": "3.10.14"
  }
 },
 "nbformat": 4,
 "nbformat_minor": 2
}
